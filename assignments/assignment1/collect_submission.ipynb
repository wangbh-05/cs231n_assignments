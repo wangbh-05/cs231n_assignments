{
 "cells": [
  {
   "cell_type": "code",
   "execution_count": null,
   "id": "c1fc9627",
   "metadata": {},
   "outputs": [],
   "source": [
    "# Local submission collection (Windows)\n",
    "# Run this from the assignment1 folder.\n",
    "import os, sys, subprocess, shutil\n",
    "\n",
    "# Ensure we're in assignment1 dir and python can find makepdf\n",
    "ASSIGN_DIR = os.getcwd()\n",
    "print('Working dir:', ASSIGN_DIR)\n",
    "\n",
    "# Use the provided PowerShell script for Windows\n",
    "ps1 = os.path.join(ASSIGN_DIR, 'collectSubmission.ps1')\n",
    "if os.path.isfile(ps1):\n",
    "    print('Invoking collectSubmission.ps1 ...')\n",
    "    # Hint for manual run if needed\n",
    "    print('If this cell fails, you can run in PowerShell:')\n",
    "    print('  powershell -ExecutionPolicy Bypass -File .\\\\collectSubmission.ps1')\n",
    "else:\n",
    "    print('collectSubmission.ps1 not found. Please run the .sh on Unix, or use the Windows script we added.')"
   ]
  },
  {
   "cell_type": "markdown",
   "id": "23ef1446",
   "metadata": {},
   "source": [
    "# Collect Submission - Zip + Generate PDF \n",
    "\n",
    "Run this notebook once you have completed all the other notebooks: `knn.ipynb`, `svm.ipynb`, `softmax.ipynb`, `two_layer_net.ipynb` and `features.ipynb`).\n",
    "\n",
    "It will:\n",
    "\n",
    "* Generate a zip file of your code (`.py` and `.ipynb`) called `a1_code_submission.zip`.\n",
    "* Convert all notebooks into a single PDF file called `a1_inline_submission.pdf`.\n",
    "\n",
    "If your submission for this step was successful, you should see the following display message:\n",
    "\n",
    "`### Done! Please submit a1_code_submission.zip and a1_inline_submission.pdf to Gradescope. ###`\n",
    "\n",
    "Make sure to download the zip and pdf file locally to your computer, then submit to Gradescope. Congrats on succesfully completing the assignment!"
   ]
  },
  {
   "cell_type": "code",
   "execution_count": null,
   "id": "3059162b",
   "metadata": {},
   "outputs": [],
   "source": [
    "# Execute the Windows submission script (PowerShell) from Python\n",
    "import subprocess, sys\n",
    "try:\n",
    "    subprocess.run([\n",
    "        'powershell', '-ExecutionPolicy', 'Bypass', '-File', '.\\\\collectSubmission.ps1'\n",
    "    ], check=True)\n",
    "except Exception as e:\n",
    "    print('Failed to run PowerShell script:', e)\n",
    "    print('You can run it manually in a terminal:')\n",
    "    print('powershell -ExecutionPolicy Bypass -File .\\\\collectSubmission.ps1')"
   ]
  }
 ],
 "metadata": {
  "language_info": {
   "name": "python"
  }
 },
 "nbformat": 4,
 "nbformat_minor": 5
}
