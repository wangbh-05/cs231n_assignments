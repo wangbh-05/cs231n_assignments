{
 "cells": [
  {
   "cell_type": "code",
   "execution_count": 2,
   "id": "d8aaae81",
   "metadata": {},
   "outputs": [
    {
     "name": "stdout",
     "output_type": "stream",
     "text": [
      "Data dir: e:\\Embodied_AI\\cs231n\\assignments\\assignment1\\cs231n\\datasets\n"
     ]
    }
   ],
   "source": [
    "# Local initialization for A1 Softmax\n",
    "import os, sys\n",
    "ASSIGNMENT_DIR = os.getcwd()\n",
    "CS231N_DIR = os.path.join(ASSIGNMENT_DIR, 'cs231n')\n",
    "if CS231N_DIR not in sys.path:\n",
    "    sys.path.append(CS231N_DIR)\n",
    "\n",
    "DATA_DIR = os.path.join(CS231N_DIR, 'datasets')\n",
    "CIFAR_DIR = os.path.join(DATA_DIR, 'cifar-10-batches-py')\n",
    "print('Data dir:', DATA_DIR)\n",
    "if not os.path.isdir(CIFAR_DIR):\n",
    "    print('CIFAR-10 not found. Download via:')\n",
    "    print(f'  cd {DATA_DIR}')\n",
    "    print('  powershell -ExecutionPolicy Bypass -File .\\\\get_datasets.ps1')"
   ]
  },
  {
   "cell_type": "markdown",
   "id": "e2c3cfa1",
   "metadata": {
    "tags": [
     "pdf-title"
    ]
   },
   "source": [
    "# Softmax exercise\n",
    "\n",
    "*Complete and hand in this completed worksheet (including its outputs and any supporting code outside of the worksheet) with your assignment submission. For more details see the [assignments page](http://vision.stanford.edu/teaching/cs231n/assignments.html) on the course website.*\n",
    "\n",
    "This exercise is analogous to the SVM exercise. You will:\n",
    "\n",
    "- implement a fully-vectorized **loss function** for the Softmax classifier\n",
    "- implement the fully-vectorized expression for its **analytic gradient**\n",
    "- **check your implementation** with numerical gradient\n",
    "- use a validation set to **tune the learning rate and regularization** strength\n",
    "- **optimize** the loss function with **SGD**\n",
    "- **visualize** the final learned weights\n"
   ]
  },
  {
   "cell_type": "code",
   "execution_count": 3,
   "id": "c55a72bf",
   "metadata": {
    "tags": [
     "pdf-ignore"
    ]
   },
   "outputs": [],
   "source": [
    "import random\n",
    "import numpy as np\n",
    "from cs231n.data_utils import load_CIFAR10\n",
    "import matplotlib.pyplot as plt\n",
    "\n",
    "%matplotlib inline\n",
    "plt.rcParams['figure.figsize'] = (10.0, 8.0) # set default size of plots\n",
    "plt.rcParams['image.interpolation'] = 'nearest'\n",
    "plt.rcParams['image.cmap'] = 'gray'\n",
    "\n",
    "# for auto-reloading extenrnal modules\n",
    "# see http://stackoverflow.com/questions/1907993/autoreload-of-modules-in-ipython\n",
    "%load_ext autoreload\n",
    "%autoreload 2"
   ]
  },
  {
   "cell_type": "code",
   "execution_count": 4,
   "id": "b99594ec",
   "metadata": {
    "tags": [
     "pdf-ignore"
    ]
   },
   "outputs": [
    {
     "name": "stdout",
     "output_type": "stream",
     "text": [
      "Train data shape:  (49000, 3073)\n",
      "Train labels shape:  (49000,)\n",
      "Validation data shape:  (1000, 3073)\n",
      "Validation labels shape:  (1000,)\n",
      "Test data shape:  (1000, 3073)\n",
      "Test labels shape:  (1000,)\n",
      "dev data shape:  (500, 3073)\n",
      "dev labels shape:  (500,)\n"
     ]
    }
   ],
   "source": [
    "def get_CIFAR10_data(num_training=49000, num_validation=1000, num_test=1000, num_dev=500):\n",
    "    \"\"\"\n",
    "    Load the CIFAR-10 dataset from disk and perform preprocessing to prepare\n",
    "    it for the linear classifier. These are the same steps as we used for the\n",
    "    SVM, but condensed to a single function.  \n",
    "    \"\"\"\n",
    "    # Load the raw CIFAR-10 data\n",
    "    cifar10_dir = 'cs231n/datasets/cifar-10-batches-py'\n",
    "    \n",
    "    # Cleaning up variables to prevent loading data multiple times (which may cause memory issue)\n",
    "    try:\n",
    "       del X_train, y_train\n",
    "       del X_test, y_test\n",
    "       print('Clear previously loaded data.')\n",
    "    except:\n",
    "       pass\n",
    "\n",
    "    X_train, y_train, X_test, y_test = load_CIFAR10(cifar10_dir)\n",
    "    \n",
    "    # subsample the data\n",
    "    mask = list(range(num_training, num_training + num_validation))\n",
    "    X_val = X_train[mask]\n",
    "    y_val = y_train[mask]\n",
    "    mask = list(range(num_training))\n",
    "    X_train = X_train[mask]\n",
    "    y_train = y_train[mask]\n",
    "    mask = list(range(num_test))\n",
    "    X_test = X_test[mask]\n",
    "    y_test = y_test[mask]\n",
    "    mask = np.random.choice(num_training, num_dev, replace=False)\n",
    "    X_dev = X_train[mask]\n",
    "    y_dev = y_train[mask]\n",
    "    \n",
    "    # Preprocessing: reshape the image data into rows\n",
    "    X_train = np.reshape(X_train, (X_train.shape[0], -1))\n",
    "    X_val = np.reshape(X_val, (X_val.shape[0], -1))\n",
    "    X_test = np.reshape(X_test, (X_test.shape[0], -1))\n",
    "    X_dev = np.reshape(X_dev, (X_dev.shape[0], -1))\n",
    "    \n",
    "    # Normalize the data: subtract the mean image\n",
    "    mean_image = np.mean(X_train, axis = 0)\n",
    "    X_train -= mean_image\n",
    "    X_val -= mean_image\n",
    "    X_test -= mean_image\n",
    "    X_dev -= mean_image\n",
    "    \n",
    "    # add bias dimension and transform into columns\n",
    "    X_train = np.hstack([X_train, np.ones((X_train.shape[0], 1))])\n",
    "    X_val = np.hstack([X_val, np.ones((X_val.shape[0], 1))])\n",
    "    X_test = np.hstack([X_test, np.ones((X_test.shape[0], 1))])\n",
    "    X_dev = np.hstack([X_dev, np.ones((X_dev.shape[0], 1))])\n",
    "    \n",
    "    return X_train, y_train, X_val, y_val, X_test, y_test, X_dev, y_dev\n",
    "\n",
    "\n",
    "# Invoke the above function to get our data.\n",
    "X_train, y_train, X_val, y_val, X_test, y_test, X_dev, y_dev = get_CIFAR10_data()\n",
    "print('Train data shape: ', X_train.shape)\n",
    "print('Train labels shape: ', y_train.shape)\n",
    "print('Validation data shape: ', X_val.shape)\n",
    "print('Validation labels shape: ', y_val.shape)\n",
    "print('Test data shape: ', X_test.shape)\n",
    "print('Test labels shape: ', y_test.shape)\n",
    "print('dev data shape: ', X_dev.shape)\n",
    "print('dev labels shape: ', y_dev.shape)"
   ]
  },
  {
   "cell_type": "markdown",
   "id": "2713b7f4",
   "metadata": {},
   "source": [
    "## Softmax Classifier\n",
    "\n",
    "Your code for this section will all be written inside `cs231n/classifiers/softmax.py`.\n"
   ]
  },
  {
   "cell_type": "code",
   "execution_count": 5,
   "id": "6168f67e",
   "metadata": {},
   "outputs": [
    {
     "name": "stdout",
     "output_type": "stream",
     "text": [
      "loss: 2.331068\n",
      "sanity check: 2.302585\n"
     ]
    }
   ],
   "source": [
    "# First implement the naive softmax loss function with nested loops.\n",
    "# Open the file cs231n/classifiers/softmax.py and implement the\n",
    "# softmax_loss_naive function.\n",
    "\n",
    "from cs231n.classifiers.softmax import softmax_loss_naive\n",
    "import time\n",
    "\n",
    "# Generate a random softmax weight matrix and use it to compute the loss.\n",
    "W = np.random.randn(3073, 10) * 0.0001\n",
    "loss, grad = softmax_loss_naive(W, X_dev, y_dev, 0.0)\n",
    "\n",
    "# As a rough sanity check, our loss should be something close to -log(0.1).\n",
    "print('loss: %f' % loss)\n",
    "print('sanity check: %f' % (-np.log(0.1)))"
   ]
  },
  {
   "cell_type": "markdown",
   "id": "b35bc604",
   "metadata": {
    "tags": [
     "pdf-inline"
    ]
   },
   "source": [
    "**Inline Question 1**\n",
    "\n",
    "Why do we expect our loss to be close to -log(0.1)? Explain briefly.**\n",
    "\n",
    "$\\color{blue}{\\textit Your Answer:}$ reg=0.0 which means no regularization, the loss is computed only by log of scores. The total class_num=10 and the init weights in W $\\approx$ 0, which means for abitrary sample's score of any class is approximately equal (1/10=0.1)\n"
   ]
  },
  {
   "cell_type": "code",
   "execution_count": 6,
   "id": "b7bef674",
   "metadata": {},
   "outputs": [
    {
     "name": "stdout",
     "output_type": "stream",
     "text": [
      "numerical: -0.164801 analytic: -0.164801, relative error: 1.652500e-07\n",
      "numerical: 1.885403 analytic: 1.885403, relative error: 9.937366e-09\n",
      "numerical: 0.926880 analytic: 0.926879, relative error: 9.918135e-08\n",
      "numerical: -1.143134 analytic: -1.143134, relative error: 5.291234e-08\n",
      "numerical: 0.926880 analytic: 0.926879, relative error: 9.918135e-08\n",
      "numerical: -1.143134 analytic: -1.143134, relative error: 5.291234e-08\n",
      "numerical: 2.328229 analytic: 2.328229, relative error: 4.080830e-08\n",
      "numerical: -0.231113 analytic: -0.231113, relative error: 7.724856e-08\n",
      "numerical: 2.328229 analytic: 2.328229, relative error: 4.080830e-08\n",
      "numerical: -0.231113 analytic: -0.231113, relative error: 7.724856e-08\n",
      "numerical: 1.781357 analytic: 1.781357, relative error: 1.787478e-08\n",
      "numerical: -1.114330 analytic: -1.114330, relative error: 4.082679e-08\n",
      "numerical: 1.781357 analytic: 1.781357, relative error: 1.787478e-08\n",
      "numerical: -1.114330 analytic: -1.114330, relative error: 4.082679e-08\n",
      "numerical: -0.583458 analytic: -0.583458, relative error: 5.457028e-08\n",
      "numerical: -3.658089 analytic: -3.658089, relative error: 1.210943e-08\n",
      "numerical: -0.583458 analytic: -0.583458, relative error: 5.457028e-08\n",
      "numerical: -3.658089 analytic: -3.658089, relative error: 1.210943e-08\n",
      "numerical: -0.684500 analytic: -0.684500, relative error: 1.626079e-08\n",
      "numerical: 0.978278 analytic: 0.978278, relative error: 2.603313e-08\n",
      "numerical: -0.684500 analytic: -0.684500, relative error: 1.626079e-08\n",
      "numerical: 0.978278 analytic: 0.978278, relative error: 2.603313e-08\n",
      "numerical: -3.709233 analytic: -3.709233, relative error: 5.482830e-09\n",
      "numerical: -0.647630 analytic: -0.647630, relative error: 1.148612e-08\n",
      "numerical: -1.570422 analytic: -1.570422, relative error: 1.741987e-09\n",
      "numerical: -0.121136 analytic: -0.121136, relative error: 4.485744e-08\n",
      "numerical: -3.709233 analytic: -3.709233, relative error: 5.482830e-09\n",
      "numerical: -0.647630 analytic: -0.647630, relative error: 1.148612e-08\n",
      "numerical: -1.570422 analytic: -1.570422, relative error: 1.741987e-09\n",
      "numerical: -0.121136 analytic: -0.121136, relative error: 4.485744e-08\n",
      "numerical: -0.505468 analytic: -0.505468, relative error: 1.812399e-09\n",
      "numerical: 0.794803 analytic: 0.794803, relative error: 4.669300e-08\n",
      "numerical: -0.505468 analytic: -0.505468, relative error: 1.812399e-09\n",
      "numerical: 0.794803 analytic: 0.794803, relative error: 4.669300e-08\n",
      "numerical: -0.709402 analytic: -0.709402, relative error: 6.672335e-09\n",
      "numerical: 0.004861 analytic: 0.004862, relative error: 3.718186e-06\n",
      "numerical: -0.709402 analytic: -0.709402, relative error: 6.672335e-09\n",
      "numerical: 0.004861 analytic: 0.004862, relative error: 3.718186e-06\n"
     ]
    }
   ],
   "source": [
    "# Complete the implementation of softmax_loss_naive and implement a (naive)\n",
    "# version of the gradient that uses nested loops.\n",
    "loss, grad = softmax_loss_naive(W, X_dev, y_dev, 0.0)\n",
    "\n",
    "# As we did for the SVM, use numeric gradient checking as a debugging tool.\n",
    "# The numeric gradient should be close to the analytic gradient.\n",
    "from cs231n.gradient_check import grad_check_sparse\n",
    "f = lambda w: softmax_loss_naive(w, X_dev, y_dev, 0.0)[0]\n",
    "grad_numerical = grad_check_sparse(f, W, grad, 10)\n",
    "\n",
    "# similar to SVM case, do another gradient check with regularization\n",
    "loss, grad = softmax_loss_naive(W, X_dev, y_dev, 5e1)\n",
    "f = lambda w: softmax_loss_naive(w, X_dev, y_dev, 5e1)[0]\n",
    "grad_numerical = grad_check_sparse(f, W, grad, 10)"
   ]
  },
  {
   "cell_type": "code",
   "execution_count": 9,
   "id": "3994f8a3",
   "metadata": {},
   "outputs": [
    {
     "name": "stdout",
     "output_type": "stream",
     "text": [
      "naive loss: 2.331068e+00 computed in 0.038505s\n",
      "vectorized loss: 2.331068e+00 computed in 0.002840s\n",
      "Loss difference: 0.000000\n",
      "Gradient difference: 0.000000\n"
     ]
    }
   ],
   "source": [
    "# Now that we have a naive implementation of the softmax loss function and its gradient,\n",
    "# implement a vectorized version in softmax_loss_vectorized.\n",
    "# The two versions should compute the same results, but the vectorized version should be\n",
    "# much faster.\n",
    "tic = time.time()\n",
    "loss_naive, grad_naive = softmax_loss_naive(W, X_dev, y_dev, 0.000005)\n",
    "toc = time.time()\n",
    "print('naive loss: %e computed in %fs' % (loss_naive, toc - tic))\n",
    "\n",
    "from cs231n.classifiers.softmax import softmax_loss_vectorized\n",
    "tic = time.time()\n",
    "loss_vectorized, grad_vectorized = softmax_loss_vectorized(W, X_dev, y_dev, 0.000005)\n",
    "toc = time.time()\n",
    "print('vectorized loss: %e computed in %fs' % (loss_vectorized, toc - tic))\n",
    "\n",
    "# As we did for the SVM, we use the Frobenius norm to compare the two versions\n",
    "# of the gradient.\n",
    "grad_difference = np.linalg.norm(grad_naive - grad_vectorized, ord='fro')\n",
    "print('Loss difference: %f' % np.abs(loss_naive - loss_vectorized))\n",
    "print('Gradient difference: %f' % grad_difference)"
   ]
  },
  {
   "cell_type": "code",
   "execution_count": 28,
   "id": "bd171311",
   "metadata": {
    "tags": [
     "code"
    ],
    "test": "tuning"
   },
   "outputs": [
    {
     "name": "stderr",
     "output_type": "stream",
     "text": [
      "e:\\Embodied_AI\\cs231n\\assignments\\assignment1\\cs231n\\classifiers\\softmax.py:103: RuntimeWarning: divide by zero encountered in log\n",
      "  log_prob = -np.log(scores_softmax[np.arange(sample_num), y])\n"
     ]
    },
    {
     "name": "stdout",
     "output_type": "stream",
     "text": [
      "lr 1.000000e-07 reg 2.500000e+03 train accuracy: 0.151449 val accuracy: 0.136000\n",
      "lr 1.000000e-07 reg 5.000000e+03 train accuracy: 0.137429 val accuracy: 0.153000\n",
      "lr 1.000000e-07 reg 2.500000e+04 train accuracy: 0.131388 val accuracy: 0.144000\n",
      "lr 1.000000e-07 reg 5.000000e+04 train accuracy: 0.159816 val accuracy: 0.165000\n",
      "lr 1.000000e-07 reg 2.500000e+05 train accuracy: 0.240857 val accuracy: 0.230000\n",
      "lr 1.000000e-07 reg 5.000000e+05 train accuracy: 0.264122 val accuracy: 0.280000\n",
      "lr 5.000000e-07 reg 2.500000e+03 train accuracy: 0.201796 val accuracy: 0.210000\n",
      "lr 5.000000e-07 reg 5.000000e+03 train accuracy: 0.203571 val accuracy: 0.221000\n",
      "lr 5.000000e-07 reg 2.500000e+04 train accuracy: 0.262633 val accuracy: 0.260000\n",
      "lr 5.000000e-07 reg 5.000000e+04 train accuracy: 0.302204 val accuracy: 0.332000\n",
      "lr 5.000000e-07 reg 2.500000e+05 train accuracy: 0.288490 val accuracy: 0.299000\n",
      "lr 5.000000e-07 reg 5.000000e+05 train accuracy: 0.263306 val accuracy: 0.277000\n",
      "lr 1.000000e-06 reg 2.500000e+03 train accuracy: 0.244510 val accuracy: 0.225000\n",
      "lr 1.000000e-06 reg 5.000000e+03 train accuracy: 0.250408 val accuracy: 0.258000\n",
      "lr 1.000000e-06 reg 2.500000e+04 train accuracy: 0.330102 val accuracy: 0.327000\n",
      "lr 1.000000e-06 reg 5.000000e+04 train accuracy: 0.294694 val accuracy: 0.304000\n",
      "lr 1.000000e-06 reg 2.500000e+05 train accuracy: 0.258204 val accuracy: 0.249000\n",
      "lr 1.000000e-06 reg 5.000000e+05 train accuracy: 0.246551 val accuracy: 0.258000\n",
      "lr 5.000000e-06 reg 2.500000e+03 train accuracy: 0.313878 val accuracy: 0.317000\n",
      "lr 5.000000e-06 reg 5.000000e+03 train accuracy: 0.343633 val accuracy: 0.375000\n",
      "lr 5.000000e-06 reg 2.500000e+04 train accuracy: 0.252776 val accuracy: 0.259000\n",
      "lr 5.000000e-06 reg 5.000000e+04 train accuracy: 0.216306 val accuracy: 0.222000\n",
      "lr 5.000000e-06 reg 2.500000e+05 train accuracy: 0.121184 val accuracy: 0.110000\n",
      "lr 5.000000e-06 reg 5.000000e+05 train accuracy: 0.101837 val accuracy: 0.095000\n",
      "lr 1.000000e-05 reg 2.500000e+03 train accuracy: 0.261816 val accuracy: 0.279000\n",
      "lr 1.000000e-05 reg 5.000000e+03 train accuracy: 0.217796 val accuracy: 0.239000\n",
      "lr 1.000000e-05 reg 2.500000e+04 train accuracy: 0.121592 val accuracy: 0.119000\n",
      "lr 1.000000e-05 reg 5.000000e+04 train accuracy: 0.164551 val accuracy: 0.151000\n",
      "lr 1.000000e-05 reg 2.500000e+05 train accuracy: 0.069898 val accuracy: 0.071000\n",
      "lr 1.000000e-05 reg 5.000000e+05 train accuracy: 0.103837 val accuracy: 0.101000\n",
      "lr 5.000000e-05 reg 2.500000e+03 train accuracy: 0.144633 val accuracy: 0.156000\n",
      "lr 5.000000e-05 reg 5.000000e+03 train accuracy: 0.163327 val accuracy: 0.174000\n",
      "lr 5.000000e-05 reg 2.500000e+04 train accuracy: 0.099551 val accuracy: 0.098000\n",
      "lr 5.000000e-05 reg 5.000000e+04 train accuracy: 0.086204 val accuracy: 0.097000\n",
      "lr 5.000000e-05 reg 2.500000e+05 train accuracy: 0.065490 val accuracy: 0.077000\n",
      "lr 5.000000e-05 reg 5.000000e+05 train accuracy: 0.082980 val accuracy: 0.087000\n",
      "best validation accuracy achieved during cross-validation: 0.375000\n"
     ]
    }
   ],
   "source": [
    "# Use the validation set to tune hyperparameters (regularization strength and\n",
    "# learning rate). You should experiment with different ranges for the learning\n",
    "# rates and regularization strengths; if you are careful you should be able to\n",
    "# get a classification accuracy of over 0.35 on the validation set.\n",
    "\n",
    "from cs231n.classifiers import Softmax\n",
    "results = {}\n",
    "best_val = -1\n",
    "best_softmax = None\n",
    "\n",
    "################################################################################\n",
    "# TODO:                                                                        #\n",
    "# Use the validation set to set the learning rate and regularization strength. #\n",
    "# This should be identical to the validation that you did for the SVM; save    #\n",
    "# the best trained softmax classifer in best_softmax.                          #\n",
    "################################################################################\n",
    "\n",
    "# Provided as a reference. You may or may not want to change these hyperparameters\n",
    "learning_rates = [1e-7, 5e-7,1e-6,5e-6,1e-5,5e-5]\n",
    "regularization_strengths = [2.5e4, 5e4, 2.5e3, 5e3, 2.5e5, 5e5]\n",
    "\n",
    "# *****START OF YOUR CODE (DO NOT DELETE/MODIFY THIS LINE)*****\n",
    "# should implement cs231n/classifiers/linear_classifier.py first\n",
    "# which include train and predict function\n",
    "for lr in learning_rates:\n",
    "    for reg in regularization_strengths:\n",
    "        softmax = Softmax()\n",
    "        softmax.train(X_train, y_train, learning_rate=lr, reg=reg)\n",
    "        pre_train_accuracy = softmax.predict(X_train)\n",
    "        pre_val_accuracy = softmax.predict(X_val)\n",
    "        train_accuracy = np.mean(pre_train_accuracy == y_train)\n",
    "        val_accuracy = np.mean(pre_val_accuracy == y_val)\n",
    "        results[(lr, reg)] = (train_accuracy, val_accuracy)\n",
    "        if val_accuracy > best_val:\n",
    "            best_val = val_accuracy\n",
    "            best_softmax = softmax\n",
    "\n",
    "# *****END OF YOUR CODE (DO NOT DELETE/MODIFY THIS LINE)*****\n",
    "    \n",
    "# Print out results.\n",
    "for lr, reg in sorted(results):\n",
    "    train_accuracy, val_accuracy = results[(lr, reg)]\n",
    "    print('lr %e reg %e train accuracy: %f val accuracy: %f' % (\n",
    "                lr, reg, train_accuracy, val_accuracy))\n",
    "    \n",
    "print('best validation accuracy achieved during cross-validation: %f' % best_val)"
   ]
  },
  {
   "cell_type": "code",
   "execution_count": 29,
   "id": "f94a8f12",
   "metadata": {
    "test": "test"
   },
   "outputs": [
    {
     "name": "stdout",
     "output_type": "stream",
     "text": [
      "softmax on raw pixels final test set accuracy: 0.352000\n"
     ]
    }
   ],
   "source": [
    "# evaluate on test set\n",
    "# Evaluate the best softmax on test set\n",
    "y_test_pred = best_softmax.predict(X_test)\n",
    "test_accuracy = np.mean(y_test == y_test_pred)\n",
    "print('softmax on raw pixels final test set accuracy: %f' % (test_accuracy, ))"
   ]
  },
  {
   "cell_type": "markdown",
   "id": "7e2112ee",
   "metadata": {
    "tags": [
     "pdf-inline"
    ]
   },
   "source": [
    "**Inline Question 2** - *True or False*\n",
    "\n",
    "Suppose the overall training loss is defined as the sum of the per-datapoint loss over all training examples. It is possible to add a new datapoint to a training set that would leave the SVM loss unchanged, but this is not the case with the Softmax classifier loss.\n",
    "\n",
    "$\\color{blue}{\\textit Your Answer:}$\n",
    "True\n",
    "\n",
    "$\\color{blue}{\\textit Your Explanation:}$\n",
    "In SVM loss, we try to learn a bound that classify different class. If we add a new datapoint which is very easy to classify, then this datapoint wouldn't change the loss. But in Softmax, the loss is \n",
    "$$L_i = -\\log\\left( \\frac{\\exp(s_{y_i})}{\\sum_j \\exp(s_j)} \\right) = -s_{y_i} + \\log\\left( \\sum_j \\exp(s_j) \\right)$$\n",
    "\n",
    "$$L_i = 0 \\quad \\text{if and only if} \\quad \\sum_{j \\ne y_i} \\exp(s_j) = 0 \\quad \\Leftrightarrow \\quad s_j = -\\infty \\quad \\text{for all } j \\ne y_i.$$\n"
   ]
  },
  {
   "cell_type": "code",
   "execution_count": 30,
   "id": "86d86120",
   "metadata": {},
   "outputs": [
    {
     "data": {
      "image/png": "[encoded data removed]",
      "text/plain": [
       "<Figure size 1000x800 with 10 Axes>"
      ]
     },
     "metadata": {},
     "output_type": "display_data"
    }
   ],
   "source": [
    "# Visualize the learned weights for each class\n",
    "w = best_softmax.W[:-1,:] # strip out the bias\n",
    "w = w.reshape(32, 32, 3, 10)\n",
    "\n",
    "w_min, w_max = np.min(w), np.max(w)\n",
    "\n",
    "classes = ['plane', 'car', 'bird', 'cat', 'deer', 'dog', 'frog', 'horse', 'ship', 'truck']\n",
    "for i in range(10):\n",
    "    plt.subplot(2, 5, i + 1)\n",
    "    \n",
    "    # Rescale the weights to be between 0 and 255\n",
    "    wimg = 255.0 * (w[:, :, :, i].squeeze() - w_min) / (w_max - w_min)\n",
    "    plt.imshow(wimg.astype('uint8'))\n",
    "    plt.axis('off')\n",
    "    plt.title(classes[i])"
   ]
  }
 ],
 "metadata": {
  "kernelspec": {
   "display_name": "cs231n_hw1",
   "language": "python",
   "name": "python3"
  },
  "language_info": {
   "codemirror_mode": {
    "name": "ipython",
    "version": 3
   },
   "file_extension": ".py",
   "mimetype": "text/x-python",
   "name": "python",
   "nbconvert_exporter": "python",
   "pygments_lexer": "ipython3",
   "version": "3.10.18"
  }
 },
 "nbformat": 4,
 "nbformat_minor": 5
}
