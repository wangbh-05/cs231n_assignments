{
 "cells": [
  {
   "cell_type": "code",
   "execution_count": null,
   "id": "8816fc29",
   "metadata": {},
   "outputs": [],
   "source": [
    "# Local submission collection (Windows)\n",
    "import os\n",
    "ASSIGN_DIR = os.getcwd()\n",
    "print('Working dir:', ASSIGN_DIR)\n",
    "ps1 = os.path.join(ASSIGN_DIR, 'collectSubmission.ps1')\n",
    "if os.path.isfile(ps1):\n",
    "    print('To submit, run in PowerShell:')\n",
    "    print('  powershell -ExecutionPolicy Bypass -File .\\\\collectSubmission.ps1')\n",
    "else:\n",
    "    print('collectSubmission.ps1 not found. Use the .sh on Unix-like systems.')"
   ]
  },
  {
   "attachments": {},
   "cell_type": "markdown",
   "id": "355916a9",
   "metadata": {},
   "source": [
    "# Collect Submission - Zip + Generate PDF \n",
    "\n",
    "Run this notebook once you have completed all the other notebooks: `FullyConnectedNets.ipynb`, `BatchNormalization.ipynb`, `Dropout.ipynb`, `ConvolutionalNetworks.ipynb`, `PyTorch.ipynb`).\n",
    "\n",
    "It will:\n",
    "\n",
    "* Generate a zip file of your code (`.py` and `.ipynb`) called `a2_code_submission.zip`.\n",
    "* Convert all notebooks into a single PDF file called `a2_inline_submission.pdf`.\n",
    "\n",
    "If your submission for this step was successful, you should see the following display message:\n",
    "\n",
    "`### Done! Please submit a2_code_submission.zip and the a2_inline_submission.pdf to Gradescope. ###`\n",
    "\n",
    "Make sure to download the zip and pdf file locally to your computer, then submit to Gradescope. Congrats on succesfully completing the assignment!"
   ]
  },
  {
   "cell_type": "code",
   "execution_count": null,
   "id": "12f7cf79",
   "metadata": {},
   "outputs": [],
   "source": [
    "# Execute the Windows submission script from Python\n",
    "import subprocess\n",
    "try:\n",
    "    subprocess.run([\n",
    "        'powershell', '-ExecutionPolicy', 'Bypass', '-File', '.\\\\collectSubmission.ps1'\n",
    "    ], check=True)\n",
    "except Exception as e:\n",
    "    print('Failed to run PowerShell script:', e)\n",
    "    print('Run manually instead:')\n",
    "    print('powershell -ExecutionPolicy Bypass -File .\\\\collectSubmission.ps1')"
   ]
  }
 ],
 "metadata": {
  "language_info": {
   "name": "python"
  }
 },
 "nbformat": 4,
 "nbformat_minor": 5
}
