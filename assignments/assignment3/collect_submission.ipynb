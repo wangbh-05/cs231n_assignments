{
 "cells": [
  {
   "cell_type": "code",
   "execution_count": null,
   "metadata": {},
   "outputs": [],
   "source": [
    "# Local submission collection (Windows)\n",
    "import os\n",
    "print('Working dir:', os.getcwd())\n",
    "print('To submit, run in PowerShell:')\n",
    "print('  powershell -ExecutionPolicy Bypass -File .\\\\collectSubmission.ps1')"
   ]
  },
  {
   "cell_type": "markdown",
   "metadata": {},
   "source": [
    "# Collect Submission - Zip + Generate PDF \n",
    "\n",
    "<font color=\"red\">**Note:** Remember to execute ALL notebooks' cells before this step. We won't be regrading missing cell outputs.</font>\n",
    "\n",
    "Run this notebook once you have completed all the other notebooks.\n",
    "\n",
    "It will:\n",
    "\n",
    "* Generate a zip file of your code (`.py` and `.ipynb`) called `a3_code_submission.zip`.\n",
    "* Convert all notebooks into a single PDF file called `a3_inline_submission.pdf`.\n",
    "\n",
    "If your submission for this step was successful, you should see the following display message:\n",
    "\n",
    "`### Done! Please submit a3_code_submission.zip and a3_inline_submission.pdf to Gradescope. ###`\n",
    "\n",
    "Make sure to download the zip and pdf file locally to your computer, then submit to Gradescope. Congrats on successfully completing the assignment!"
   ]
  },
  {
   "cell_type": "code",
   "execution_count": null,
   "metadata": {},
   "outputs": [],
   "source": [
    "# Execute the Windows submission script from Python\n",
    "import subprocess\n",
    "try:\n",
    "    subprocess.run([\n",
    "        'powershell', '-ExecutionPolicy', 'Bypass', '-File', '.\\\\collectSubmission.ps1'\n",
    "    ], check=True)\n",
    "except Exception as e:\n",
    "    print('Failed to run PowerShell script:', e)\n",
    "    print('Run manually:')\n",
    "    print('powershell -ExecutionPolicy Bypass -File .\\\\collectSubmission.ps1')"
   ]
  }
 ],
 "metadata": {
  "language_info": {
   "name": "python"
  }
 },
 "nbformat": 4,
 "nbformat_minor": 4
}
